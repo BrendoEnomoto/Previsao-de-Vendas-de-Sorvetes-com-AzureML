{
  "cells": [
    {
      "cell_type": "code",
      "source": [
        "import pandas as pd\n",
        "from sklearn.model_selection import train_test_split\n",
        "from sklearn.linear_model import LinearRegression, Ridge, Lasso\n",
        "from sklearn.metrics import mean_absolute_error, mean_squared_error, r2_score\n",
        "import mlflow\n",
        "import mlflow.sklearn"
      ],
      "outputs": [],
      "execution_count": 16,
      "metadata": {
        "gather": {
          "logged": 1742851470578
        },
        "id": "4x_9Wg2bIk_f"
      }
    },
    {
      "cell_type": "markdown",
      "source": [
        "# Importação dos dados"
      ],
      "metadata": {
        "id": "1vRmSIwII9w9"
      }
    },
    {
      "cell_type": "code",
      "source": [
        "import mltable\n",
        "from azure.ai.ml import MLClient\n",
        "from azure.identity import DefaultAzureCredential\n",
        "\n",
        "ml_client = MLClient.from_config(credential=DefaultAzureCredential())\n",
        "data_asset = ml_client.data.get(\"gelato_magico\", version=\"1\")\n",
        "\n",
        "tbl = mltable.load(f'azureml:/{data_asset.id}')\n",
        "\n",
        "df = tbl.to_pandas_dataframe()\n",
        "\n",
        "df.head()\n",
        "\n",
        "df = pd.read_csv(data_asset.path)\n",
        "df"
      ],
      "outputs": [
        {
          "output_type": "stream",
          "name": "stderr",
          "text": "Found the config file in: /config.json\n"
        },
        {
          "output_type": "execute_result",
          "execution_count": 2,
          "data": {
            "text/plain": "     Temperature  Ice Cream Profits\n0             39              13.17\n1             40              11.88\n2             41              18.82\n3             42              18.65\n4             43              17.02\n..           ...                ...\n360           99              85.13\n361           99              87.08\n362           99              89.29\n363          101              81.91\n364          101              85.02\n\n[365 rows x 2 columns]",
            "text/html": "<div>\n<style scoped>\n    .dataframe tbody tr th:only-of-type {\n        vertical-align: middle;\n    }\n\n    .dataframe tbody tr th {\n        vertical-align: top;\n    }\n\n    .dataframe thead th {\n        text-align: right;\n    }\n</style>\n<table border=\"1\" class=\"dataframe\">\n  <thead>\n    <tr style=\"text-align: right;\">\n      <th></th>\n      <th>Temperature</th>\n      <th>Ice Cream Profits</th>\n    </tr>\n  </thead>\n  <tbody>\n    <tr>\n      <th>0</th>\n      <td>39</td>\n      <td>13.17</td>\n    </tr>\n    <tr>\n      <th>1</th>\n      <td>40</td>\n      <td>11.88</td>\n    </tr>\n    <tr>\n      <th>2</th>\n      <td>41</td>\n      <td>18.82</td>\n    </tr>\n    <tr>\n      <th>3</th>\n      <td>42</td>\n      <td>18.65</td>\n    </tr>\n    <tr>\n      <th>4</th>\n      <td>43</td>\n      <td>17.02</td>\n    </tr>\n    <tr>\n      <th>...</th>\n      <td>...</td>\n      <td>...</td>\n    </tr>\n    <tr>\n      <th>360</th>\n      <td>99</td>\n      <td>85.13</td>\n    </tr>\n    <tr>\n      <th>361</th>\n      <td>99</td>\n      <td>87.08</td>\n    </tr>\n    <tr>\n      <th>362</th>\n      <td>99</td>\n      <td>89.29</td>\n    </tr>\n    <tr>\n      <th>363</th>\n      <td>101</td>\n      <td>81.91</td>\n    </tr>\n    <tr>\n      <th>364</th>\n      <td>101</td>\n      <td>85.02</td>\n    </tr>\n  </tbody>\n</table>\n<p>365 rows × 2 columns</p>\n</div>"
          },
          "metadata": {}
        }
      ],
      "execution_count": 2,
      "metadata": {
        "gather": {
          "logged": 1742851282466
        },
        "id": "FgpW0cSEJFgQ"
      }
    },
    {
      "cell_type": "markdown",
      "source": [
        "# Análise Exploratória de Dados"
      ],
      "metadata": {
        "id": "KCR11ZgUJsJX"
      }
    },
    {
      "cell_type": "code",
      "source": [
        "df.shape"
      ],
      "outputs": [
        {
          "output_type": "execute_result",
          "execution_count": 3,
          "data": {
            "text/plain": "(365, 2)"
          },
          "metadata": {}
        }
      ],
      "execution_count": 3,
      "metadata": {
        "colab": {
          "base_uri": "https://localhost:8080/"
        },
        "gather": {
          "logged": 1742851282598
        },
        "id": "CoHgobNgQjZN",
        "outputId": "2c2a84a7-a069-4726-b707-d7dab10b6624"
      }
    },
    {
      "cell_type": "code",
      "source": [
        "df.info()"
      ],
      "outputs": [
        {
          "output_type": "stream",
          "name": "stdout",
          "text": "<class 'pandas.core.frame.DataFrame'>\nRangeIndex: 365 entries, 0 to 364\nData columns (total 2 columns):\n #   Column             Non-Null Count  Dtype  \n---  ------             --------------  -----  \n 0   Temperature        365 non-null    int64  \n 1   Ice Cream Profits  365 non-null    float64\ndtypes: float64(1), int64(1)\nmemory usage: 5.8 KB\n"
        }
      ],
      "execution_count": 4,
      "metadata": {
        "colab": {
          "base_uri": "https://localhost:8080/"
        },
        "gather": {
          "logged": 1742851282682
        },
        "id": "4kJ9khbEJPvs",
        "outputId": "a0b830be-5c1e-4f4b-ec77-1c715eaef48d"
      }
    },
    {
      "cell_type": "code",
      "source": [
        "df.describe()"
      ],
      "outputs": [
        {
          "output_type": "execute_result",
          "execution_count": 5,
          "data": {
            "text/plain": "       Temperature  Ice Cream Profits\ncount   365.000000         365.000000\nmean     71.980822          52.103616\nstd      13.258510          15.989004\nmin      39.000000          11.880000\n25%      63.000000          40.650000\n50%      73.000000          53.620000\n75%      82.000000          63.630000\nmax     101.000000          89.290000",
            "text/html": "<div>\n<style scoped>\n    .dataframe tbody tr th:only-of-type {\n        vertical-align: middle;\n    }\n\n    .dataframe tbody tr th {\n        vertical-align: top;\n    }\n\n    .dataframe thead th {\n        text-align: right;\n    }\n</style>\n<table border=\"1\" class=\"dataframe\">\n  <thead>\n    <tr style=\"text-align: right;\">\n      <th></th>\n      <th>Temperature</th>\n      <th>Ice Cream Profits</th>\n    </tr>\n  </thead>\n  <tbody>\n    <tr>\n      <th>count</th>\n      <td>365.000000</td>\n      <td>365.000000</td>\n    </tr>\n    <tr>\n      <th>mean</th>\n      <td>71.980822</td>\n      <td>52.103616</td>\n    </tr>\n    <tr>\n      <th>std</th>\n      <td>13.258510</td>\n      <td>15.989004</td>\n    </tr>\n    <tr>\n      <th>min</th>\n      <td>39.000000</td>\n      <td>11.880000</td>\n    </tr>\n    <tr>\n      <th>25%</th>\n      <td>63.000000</td>\n      <td>40.650000</td>\n    </tr>\n    <tr>\n      <th>50%</th>\n      <td>73.000000</td>\n      <td>53.620000</td>\n    </tr>\n    <tr>\n      <th>75%</th>\n      <td>82.000000</td>\n      <td>63.630000</td>\n    </tr>\n    <tr>\n      <th>max</th>\n      <td>101.000000</td>\n      <td>89.290000</td>\n    </tr>\n  </tbody>\n</table>\n</div>"
          },
          "metadata": {}
        }
      ],
      "execution_count": 5,
      "metadata": {
        "colab": {
          "base_uri": "https://localhost:8080/",
          "height": 300
        },
        "gather": {
          "logged": 1742851282807
        },
        "id": "28VhVKviJdKg",
        "outputId": "097130a5-b365-4604-eb1d-e34a37266b59"
      }
    },
    {
      "cell_type": "markdown",
      "source": [
        "## Utilizando o box plot para verificar a presença de outliers."
      ],
      "metadata": {
        "id": "LIs-Qt3cOp5Q"
      }
    },
    {
      "cell_type": "code",
      "source": [
        "df['Temperature'].plot(kind='box')"
      ],
      "outputs": [
        {
          "output_type": "execute_result",
          "execution_count": 6,
          "data": {
            "text/plain": "<Axes: >"
          },
          "metadata": {}
        },
        {
          "output_type": "display_data",
          "data": {
            "text/plain": "<Figure size 640x480 with 1 Axes>",
            "image/png": "[encoded data removed]"
          },
          "metadata": {}
        }
      ],
      "execution_count": 6,
      "metadata": {
        "gather": {
          "logged": 1742851283487
        }
      }
    },
    {
      "cell_type": "code",
      "source": [
        "df['Ice Cream Profits'].plot(kind='box')"
      ],
      "outputs": [
        {
          "output_type": "execute_result",
          "execution_count": 7,
          "data": {
            "text/plain": "<Axes: >"
          },
          "metadata": {}
        },
        {
          "output_type": "display_data",
          "data": {
            "text/plain": "<Figure size 640x480 with 1 Axes>",
            "image/png": "[encoded data removed]"
          },
          "metadata": {}
        }
      ],
      "execution_count": 7,
      "metadata": {
        "gather": {
          "logged": 1742851283607
        }
      }
    },
    {
      "cell_type": "markdown",
      "source": [
        "Verificar qual o comportamento da váriavel target (Ice Cream Profits) para saber qual função ela segue e determinar as melhores opções de algoritmos.\n",
        "\n",
        "---\n",
        "\n"
      ],
      "metadata": {
        "id": "Uyz-McMKJhwR"
      }
    },
    {
      "cell_type": "code",
      "source": [
        "df.plot(kind='scatter', x='Ice Cream Profits', y='Temperature')"
      ],
      "outputs": [
        {
          "output_type": "stream",
          "name": "stderr",
          "text": "/anaconda/envs/azureml_py310_sdkv2/lib/python3.10/site-packages/pandas/plotting/_matplotlib/core.py:1070: UserWarning: No data for colormapping provided via 'c'. Parameters 'cmap' will be ignored\n  scatter = ax.scatter(\n"
        },
        {
          "output_type": "execute_result",
          "execution_count": 8,
          "data": {
            "text/plain": "<Axes: xlabel='Ice Cream Profits', ylabel='Temperature'>"
          },
          "metadata": {}
        },
        {
          "output_type": "display_data",
          "data": {
            "text/plain": "<Figure size 640x480 with 1 Axes>",
            "image/png": "[encoded data removed]"
          },
          "metadata": {}
        }
      ],
      "execution_count": 8,
      "metadata": {
        "colab": {
          "base_uri": "https://localhost:8080/",
          "height": 530
        },
        "gather": {
          "logged": 1742851283787
        },
        "id": "0VUTwF-_K_Vp",
        "outputId": "73065a2c-32d9-497b-e4ea-bcb6261bec0c"
      }
    },
    {
      "cell_type": "code",
      "source": [
        "df.corr()"
      ],
      "outputs": [
        {
          "output_type": "execute_result",
          "execution_count": 9,
          "data": {
            "text/plain": "                   Temperature  Ice Cream Profits\nTemperature           1.000000           0.988446\nIce Cream Profits     0.988446           1.000000",
            "text/html": "<div>\n<style scoped>\n    .dataframe tbody tr th:only-of-type {\n        vertical-align: middle;\n    }\n\n    .dataframe tbody tr th {\n        vertical-align: top;\n    }\n\n    .dataframe thead th {\n        text-align: right;\n    }\n</style>\n<table border=\"1\" class=\"dataframe\">\n  <thead>\n    <tr style=\"text-align: right;\">\n      <th></th>\n      <th>Temperature</th>\n      <th>Ice Cream Profits</th>\n    </tr>\n  </thead>\n  <tbody>\n    <tr>\n      <th>Temperature</th>\n      <td>1.000000</td>\n      <td>0.988446</td>\n    </tr>\n    <tr>\n      <th>Ice Cream Profits</th>\n      <td>0.988446</td>\n      <td>1.000000</td>\n    </tr>\n  </tbody>\n</table>\n</div>"
          },
          "metadata": {}
        }
      ],
      "execution_count": 9,
      "metadata": {
        "colab": {
          "base_uri": "https://localhost:8080/",
          "height": 112
        },
        "gather": {
          "logged": 1742851283888
        },
        "id": "-TBJ1Bj3NCTz",
        "outputId": "ae283364-ad79-4517-f7c1-dd3a076664ce"
      }
    },
    {
      "cell_type": "markdown",
      "source": [
        "A variável target a presenta comportamento linear e alto indice de correlação positiva com o artributo 'Temperature'."
      ],
      "metadata": {
        "id": "Zah_wNMVNrl8"
      }
    },
    {
      "cell_type": "markdown",
      "source": [
        "# Pré-processamento"
      ],
      "metadata": {
        "id": "JJmp_3soPvei"
      }
    },
    {
      "cell_type": "code",
      "source": [
        "# Definir o nome\n",
        "mlflow.set_experiment(\"Gelato-Regression_nt\")\n",
        "\n",
        "# Ativar o autologging com MLflow\n",
        "mlflow.sklearn.autolog()"
      ],
      "outputs": [
        {
          "output_type": "stream",
          "name": "stderr",
          "text": "2025/03/24 21:21:35 INFO mlflow.tracking.fluent: Experiment with name 'Gelato-Regression_nt' does not exist. Creating a new experiment.\n2025/03/24 21:21:36 WARNING mlflow.utils.autologging_utils: MLflow sklearn autologging is known to be compatible with 0.24.1 <= scikit-learn <= 1.5.1, but the installed version is 1.5.2. If you encounter errors during autologging, try upgrading / downgrading scikit-learn to a compatible version, or try upgrading MLflow.\n"
        }
      ],
      "execution_count": 11,
      "metadata": {
        "gather": {
          "logged": 1742851298084
        }
      }
    },
    {
      "cell_type": "code",
      "source": [
        "#Separação entre features e target\n",
        "X = df.drop('Ice Cream Profits', axis=1)\n",
        "y = df['Ice Cream Profits']"
      ],
      "outputs": [],
      "execution_count": 12,
      "metadata": {
        "gather": {
          "logged": 1742851299943
        },
        "id": "kLIG4E0nNSL8"
      }
    },
    {
      "cell_type": "markdown",
      "source": [
        "Separando entre dados de treinamento e Validação"
      ],
      "metadata": {
        "id": "YSgdOrXnRcoz"
      }
    },
    {
      "cell_type": "code",
      "source": [
        "X_train, X_test, y_train, y_test = train_test_split(X, y, test_size=0.2, random_state=42)"
      ],
      "outputs": [],
      "execution_count": 13,
      "metadata": {
        "gather": {
          "logged": 1742851301482
        },
        "id": "rhvAQVYpRSMS"
      }
    },
    {
      "cell_type": "markdown",
      "source": [
        "# Construção e Treinamento do Modelo"
      ],
      "metadata": {
        "id": "cuVk1VHYRmqV"
      }
    },
    {
      "cell_type": "markdown",
      "source": [
        "Como o problema segue uma função linear, utilizaremos algorítimos que usam esta como base. Aquele com melhor desempenho será selecionado."
      ],
      "metadata": {
        "id": "CxFLMMVDT77-"
      }
    },
    {
      "cell_type": "markdown",
      "source": [
        "## LinearRegresion"
      ],
      "metadata": {
        "id": "KyUyz80YRz5_"
      }
    },
    {
      "cell_type": "code",
      "source": [
        "mlflow.start_run()\n",
        "\n",
        "#Definição do alg.\n",
        "lr = LinearRegression()\n",
        "\n",
        "#treinando o modelo\n",
        "lr.fit(X_train, y_train)\n",
        "\n",
        "#Testando\n",
        "lr.score(X_test, y_test)\n",
        "\n",
        "mlflow.end_run()"
      ],
      "outputs": [
        {
          "output_type": "stream",
          "name": "stderr",
          "text": "2025/03/24 21:21:45 WARNING mlflow.utils.autologging_utils: MLflow autologging encountered a warning: \"/anaconda/envs/azureml_py310_sdkv2/lib/python3.10/site-packages/mlflow/types/utils.py:407: UserWarning: Hint: Inferred schema contains integer column(s). Integer columns in Python cannot represent missing values. If your input data contains missing values at inference time, it will be encoded as floats and will cause a schema enforcement error. The best way to avoid this problem is to infer the model schema based on a realistic data sample (training dataset) that includes missing values. Alternatively, you can declare integer columns as doubles (float64) whenever these columns may have missing values. See `Handling Integers With Missing Values <https://www.mlflow.org/docs/latest/models.html#handling-integers-with-missing-values>`_ for more details.\"\n2025/03/24 21:21:46 WARNING mlflow.utils.autologging_utils: MLflow autologging encountered a warning: \"/anaconda/envs/azureml_py310_sdkv2/lib/python3.10/site-packages/mlflow/types/utils.py:407: UserWarning: Hint: Inferred schema contains integer column(s). Integer columns in Python cannot represent missing values. If your input data contains missing values at inference time, it will be encoded as floats and will cause a schema enforcement error. The best way to avoid this problem is to infer the model schema based on a realistic data sample (training dataset) that includes missing values. Alternatively, you can declare integer columns as doubles (float64) whenever these columns may have missing values. See `Handling Integers With Missing Values <https://www.mlflow.org/docs/latest/models.html#handling-integers-with-missing-values>`_ for more details.\"\n2025/03/24 21:21:56 WARNING mlflow.utils.autologging_utils: Encountered unexpected error during sklearn autologging: The following failures occurred while performing one or more logging operations: [MlflowException('Failed to perform one or more operations on the run with ID 68cdbfc7-32a8-40ed-86a7-910af27f31fa. Failed operations: [RestException(\\'BAD_REQUEST: Response: {\\\\\\'Error\\\\\\': {\\\\\\'Code\\\\\\': \\\\\\'UserError\\\\\\', \\\\\\'Severity\\\\\\': None, \\\\\\'Message\\\\\\': \"Could not log all inputs as datasets:\\\\\\\\nCREATE can\\\\\\'t modify existing entity, please use UPDATE.\", \\\\\\'MessageFormat\\\\\\': None, \\\\\\'MessageParameters\\\\\\': None, \\\\\\'ReferenceCode\\\\\\': None, \\\\\\'DetailsUri\\\\\\': None, \\\\\\'Target\\\\\\': None, \\\\\\'Details\\\\\\': [], \\\\\\'InnerError\\\\\\': None, \\\\\\'DebugInfo\\\\\\': None, \\\\\\'AdditionalInfo\\\\\\': None}, \\\\\\'Correlation\\\\\\': {\\\\\\'operation\\\\\\': \\\\\\'756edb785d76449ea79c925007eb9688\\\\\\', \\\\\\'request\\\\\\': \\\\\\'4b51d79fcf221126\\\\\\'}, \\\\\\'Environment\\\\\\': \\\\\\'brazilsouth\\\\\\', \\\\\\'Location\\\\\\': \\\\\\'brazilsouth\\\\\\', \\\\\\'Time\\\\\\': \\\\\\'2025-03-24T21:21:45.7064094+00:00\\\\\\', \\\\\\'ComponentName\\\\\\': \\\\\\'mlflow\\\\\\', \\\\\\'statusCode\\\\\\': 400, \\\\\\'error_code\\\\\\': \\\\\\'BAD_REQUEST\\\\\\'}\\')]')]\n2025/03/24 21:21:56 INFO mlflow.tracking._tracking_service.client: 🏃 View run dynamic_night_bvmd3mvt at: https://brazilsouth.api.azureml.ms/mlflow/v2.0/subscriptions/4541dd7b-7618-42c2-89fa-4545a19be31e/resourceGroups/dio_exam/providers/Microsoft.MachineLearningServices/workspaces/gelato_magico-ml/#/experiments/e34e7721-c5d2-4ea5-a2a1-389ba12f0287/runs/68cdbfc7-32a8-40ed-86a7-910af27f31fa.\n2025/03/24 21:21:56 INFO mlflow.tracking._tracking_service.client: 🧪 View experiment at: https://brazilsouth.api.azureml.ms/mlflow/v2.0/subscriptions/4541dd7b-7618-42c2-89fa-4545a19be31e/resourceGroups/dio_exam/providers/Microsoft.MachineLearningServices/workspaces/gelato_magico-ml/#/experiments/e34e7721-c5d2-4ea5-a2a1-389ba12f0287.\n"
        }
      ],
      "execution_count": 14,
      "metadata": {
        "colab": {
          "base_uri": "https://localhost:8080/"
        },
        "gather": {
          "logged": 1742851316645
        },
        "id": "yCKKsfWwRlKI",
        "outputId": "e09f5f08-0bfe-464b-f22c-735e098127ca"
      }
    },
    {
      "cell_type": "markdown",
      "source": [
        "## Criar script para componente"
      ],
      "metadata": {
        "nteract": {
          "transient": {
            "deleting": false
          }
        }
      }
    }
  ],
  "metadata": {
    "colab": {
      "provenance": []
    },
    "kernel_info": {
      "name": "python310-sdkv2"
    },
    "kernelspec": {
      "name": "python310-sdkv2",
      "language": "python",
      "display_name": "Python 3.10 - SDK v2"
    },
    "microsoft": {
      "host": {
        "AzureML": {
          "notebookHasBeenCompleted": true
        }
      }
    },
    "nteract": {
      "version": "nteract-front-end@1.0.0"
    },
    "language_info": {
      "name": "python",
      "version": "3.10.14",
      "mimetype": "text/x-python",
      "codemirror_mode": {
        "name": "ipython",
        "version": 3
      },
      "pygments_lexer": "ipython3",
      "nbconvert_exporter": "python",
      "file_extension": ".py"
    }
  },
  "nbformat": 4,
  "nbformat_minor": 0
}