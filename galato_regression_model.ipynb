{
  "cells": [
    {
      "cell_type": "markdown",
      "metadata": {
        "nteract": {
          "transient": {
            "deleting": false
          }
        }
      },
      "source": [
        "## Conectar ao Workspace"
      ]
    },
    {
      "cell_type": "code",
      "execution_count": null,
      "metadata": {
        "gather": {
          "logged": 1742853355508
        }
      },
      "outputs": [
        {
          "name": "stdout",
          "output_type": "stream",
          "text": [
            "brazilsouth : dio_exam\n"
          ]
        }
      ],
      "source": [
        "from azure.ai.ml import MLClient\n",
        "from azure.identity import DefaultAzureCredential\n",
        "\n",
        "# authenticate\n",
        "credential = DefaultAzureCredential()\n",
        "\n",
        "SUBSCRIPTION = \n",
        "RESOURCE_GROUP = \n",
        "WS_NAME = \n",
        "# Get a handle to the workspace\n",
        "ml_client = MLClient(\n",
        "    credential=credential,\n",
        "    subscription_id=SUBSCRIPTION,\n",
        "    resource_group_name=RESOURCE_GROUP,\n",
        "    workspace_name=WS_NAME,\n",
        ")\n",
        "\n",
        "ws = ml_client.workspaces.get(WS_NAME)\n",
        "print(ws.location, \":\", ws.resource_group)"
      ]
    },
    {
      "cell_type": "markdown",
      "metadata": {
        "nteract": {
          "transient": {
            "deleting": false
          }
        }
      },
      "source": [
        "## Criar o ambiente do job"
      ]
    },
    {
      "cell_type": "markdown",
      "metadata": {
        "nteract": {
          "transient": {
            "deleting": false
          }
        }
      },
      "source": [
        "### Cria o diretório "
      ]
    },
    {
      "cell_type": "code",
      "execution_count": 10,
      "metadata": {
        "gather": {
          "logged": 1742853355607
        }
      },
      "outputs": [],
      "source": [
        "import os\n",
        "\n",
        "dependencies_dir = \"./dependencies\"\n",
        "os.makedirs(dependencies_dir, exist_ok=True)"
      ]
    },
    {
      "cell_type": "markdown",
      "metadata": {
        "nteract": {
          "transient": {
            "deleting": false
          }
        }
      },
      "source": [
        "### Cria as váriaveis de ambiente conda"
      ]
    },
    {
      "cell_type": "code",
      "execution_count": 11,
      "metadata": {},
      "outputs": [
        {
          "name": "stdout",
          "output_type": "stream",
          "text": [
            "Overwriting ./dependencies/conda.yaml\n"
          ]
        }
      ],
      "source": [
        "%%writefile {dependencies_dir}/conda.yaml\n",
        "name: model-env\n",
        "channels:\n",
        "  - conda-forge\n",
        "dependencies:\n",
        "  - python=3.8\n",
        "  - numpy=1.21.2\n",
        "  - pip=21.2.4\n",
        "  - scikit-learn=1.0.2\n",
        "  - scipy=1.7.1\n",
        "  - pandas>=1.1,<1.2\n",
        "  - pip:\n",
        "    - inference-schema[numpy-support]==1.3.0\n",
        "    - mlflow==2.8.0\n",
        "    - mlflow-skinny==2.8.0\n",
        "    - azureml-mlflow==1.51.0\n",
        "    - psutil>=5.8,<5.9\n",
        "    - tqdm>=4.59,<4.60\n",
        "    - ipykernel~=6.0\n",
        "    - matplotlib"
      ]
    },
    {
      "cell_type": "code",
      "execution_count": 12,
      "metadata": {
        "gather": {
          "logged": 1742853360505
        }
      },
      "outputs": [
        {
          "name": "stdout",
          "output_type": "stream",
          "text": [
            "Environment with name sklearn-basic is registered to workspace, the environment version is 4\n"
          ]
        }
      ],
      "source": [
        "from azure.ai.ml.entities import Environment\n",
        "\n",
        "custom_env_name = \"sklearn-basic\"\n",
        "\n",
        "custom_job_env = Environment(\n",
        "    name=custom_env_name,\n",
        "    description=\"Custom environment for gelato regresion model\",\n",
        "    tags={\"scikit-learn\": \"1.0.2\"},\n",
        "    conda_file=os.path.join(dependencies_dir, \"conda.yaml\"),\n",
        "    image=\"mcr.microsoft.com/azureml/openmpi4.1.0-ubuntu20.04:latest\",\n",
        ")\n",
        "custom_job_env = ml_client.environments.create_or_update(custom_job_env)\n",
        "\n",
        "print(f\"Environment with name {custom_job_env.name} is registered to workspace, the environment version is {custom_job_env.version}\")\n"
      ]
    },
    {
      "cell_type": "markdown",
      "metadata": {
        "nteract": {
          "transient": {
            "deleting": false
          }
        }
      },
      "source": [
        "## Criando o script do modelo"
      ]
    },
    {
      "cell_type": "code",
      "execution_count": null,
      "metadata": {
        "gather": {
          "logged": 1742853360596
        }
      },
      "outputs": [],
      "source": [
        "import os\n",
        "\n",
        "train_src_dir = \"./src\"\n",
        "os.makedirs(train_src_dir, exist_ok=True)"
      ]
    },
    {
      "cell_type": "code",
      "execution_count": 14,
      "metadata": {},
      "outputs": [
        {
          "name": "stdout",
          "output_type": "stream",
          "text": [
            "Overwriting ./src/main.py\n"
          ]
        }
      ],
      "source": [
        "%%writefile {train_src_dir}/main.py\n",
        "import os\n",
        "import argparse\n",
        "import pandas as pd\n",
        "import mlflow\n",
        "import mlflow.sklearn\n",
        "from sklearn.linear_model import LinearRegression\n",
        "from sklearn.metrics import mean_absolute_error, r2_score\n",
        "from sklearn.model_selection import train_test_split\n",
        "\n",
        "def main():\n",
        "    \"\"\"Main function of the script.\"\"\"\n",
        "\n",
        "    # input and output arguments\n",
        "    parser = argparse.ArgumentParser()\n",
        "    parser.add_argument(\"--data\", type=str, help=\"path to input data\")\n",
        "    parser.add_argument(\"--test_train_ratio\", type=float, required=False, default=0.25)\n",
        "    parser.add_argument(\"--registered_model_name\", type=str, help=\"model name\")\n",
        "    args = parser.parse_args()\n",
        "   \n",
        "    # Start Logging\n",
        "    mlflow.start_run()\n",
        "\n",
        "    # enable autologging\n",
        "    mlflow.sklearn.autolog()\n",
        "\n",
        "    ###################\n",
        "    #<prepare the data>\n",
        "    ###################\n",
        "    \n",
        "    gelato_df = pd.read_csv(args.data)\n",
        "\n",
        "    mlflow.log_metric(\"num_samples\", gelato_df.shape[0])\n",
        "    mlflow.log_metric(\"num_features\", gelato_df.shape[1] - 1)\n",
        "\n",
        "    #Split train and test datasets\n",
        "    X = gelato_df.drop('Ice Cream Profits', axis=1)\n",
        "    y = gelato_df['Ice Cream Profits']\n",
        "\n",
        "    X_train, X_test, y_train, y_test = train_test_split(X, y, test_size=args.test_train_ratio, random_state=42)\n",
        "    ####################\n",
        "    #</prepare the data>\n",
        "    ####################\n",
        "\n",
        "    ###################\n",
        "    #</train the model>\n",
        "    ###################\n",
        "    lr = LinearRegression()\n",
        "\n",
        "#treinando o modelo\n",
        "    lr.fit(X_train, y_train)\n",
        "\n",
        "    #Testando\n",
        "    lr.score(X_test, y_test)\n",
        "\n",
        "    y_pred = lr.predict(X_test)\n",
        "\n",
        "    print(f'MAE: {mean_absolute_error(y_test, y_pred)}')\n",
        "    print(f'MAE: {r2_score(y_test, y_pred)}')\n",
        "\n",
        "    ##########################\n",
        "    #<save and register model>\n",
        "    ##########################\n",
        "    # Registering the model to the workspace\n",
        "    print(\"Registering the model via MLFlow\")\n",
        "    mlflow.sklearn.log_model(\n",
        "        sk_model=lr,\n",
        "        registered_model_name=args.registered_model_name,\n",
        "        artifact_path=args.registered_model_name,\n",
        "    )\n",
        "\n",
        "    # Saving the model to a file\n",
        "    mlflow.sklearn.save_model(\n",
        "        sk_model=lr,\n",
        "        path=os.path.join(args.registered_model_name, \"trained_model\"),\n",
        "    )\n",
        "    ###########################\n",
        "    #</save and register model>\n",
        "    ###########################\n",
        "    \n",
        "    # Stop Logging\n",
        "    mlflow.end_run()\n",
        "\n",
        "if __name__ == \"__main__\":\n",
        "    main()"
      ]
    },
    {
      "cell_type": "markdown",
      "metadata": {
        "nteract": {
          "transient": {
            "deleting": false
          }
        }
      },
      "source": [
        "## Configura o comando"
      ]
    },
    {
      "cell_type": "code",
      "execution_count": 17,
      "metadata": {
        "gather": {
          "logged": 1742853360758
        }
      },
      "outputs": [],
      "source": [
        "from azure.ai.ml import command\n",
        "from azure.ai.ml import Input\n",
        "\n",
        "registered_model_name = \"gelato_regression_model_nt\"\n",
        "\n",
        "job = command(\n",
        "    inputs=dict(\n",
        "        data=Input(\n",
        "            type=\"uri_file\",\n",
        "            path=\"https://ml.azure.com/fileexplorerAzNB?wsid=/subscriptions/4541dd7b-7618-42c2-89fa-4545a19be31e/resourcegroups/dio_exam/providers/Microsoft.MachineLearningServices/workspaces/Gelato_magico-ml&tid=bdae6e2c-0449-4431-8ee0-a78faed19549&activeFilePath=Users/iaanenomoto2/gelato-magico-ml/Ice%20Cream%20Sales%20-%20temperatures.csv\",\n",
        "        ),\n",
        "        test_train_ratio=0.2,\n",
        "        registered_model_name=registered_model_name,\n",
        "    ),\n",
        "    code=\"./src/\",  # location of source code\n",
        "    command=\"python main.py --data ${{inputs.data}} --test_train_ratio ${{inputs.test_train_ratio}} --registered_model_name ${{inputs.registered_model_name}}\",\n",
        "    environment=\"sklearn-basic@latest\",\n",
        "    display_name=\"gelato_regression_prediction_nt\",\n",
        ")"
      ]
    },
    {
      "cell_type": "markdown",
      "metadata": {
        "nteract": {
          "transient": {
            "deleting": false
          }
        }
      },
      "source": [
        "## Chama o job"
      ]
    },
    {
      "cell_type": "code",
      "execution_count": 18,
      "metadata": {
        "gather": {
          "logged": 1742853362603
        }
      },
      "outputs": [
        {
          "data": {
            "text/html": [
              "<table style=\"width:100%\"><tr><th>Experiment</th><th>Name</th><th>Type</th><th>Status</th><th>Details Page</th></tr><tr><td>gelato-magico-ml</td><td>yellow_cart_cyb6ktndq4</td><td>command</td><td>Starting</td><td><a href=\"https://ml.azure.com/runs/yellow_cart_cyb6ktndq4?wsid=/subscriptions/4541dd7b-7618-42c2-89fa-4545a19be31e/resourcegroups/dio_exam/workspaces/Gelato_magico-ml&amp;tid=bdae6e2c-0449-4431-8ee0-a78faed19549\" target=\"_blank\" rel=\"noopener\">Link to Azure Machine Learning studio</a></td></tr></table>"
            ],
            "text/plain": [
              "Command({'parameters': {}, 'init': False, 'name': 'yellow_cart_cyb6ktndq4', 'type': 'command', 'status': 'Starting', 'log_files': None, 'description': None, 'tags': {}, 'properties': {'_azureml.ComputeTargetType': 'amlctrain', '_azureml.ClusterName': None, 'ContentSnapshotId': '6f44e848-b59c-4652-88bc-ec0cd24d2c6f'}, 'print_as_yaml': False, 'id': '/subscriptions/4541dd7b-7618-42c2-89fa-4545a19be31e/resourceGroups/dio_exam/providers/Microsoft.MachineLearningServices/workspaces/Gelato_magico-ml/jobs/yellow_cart_cyb6ktndq4', 'Resource__source_path': '', 'base_path': '/mnt/batch/tasks/shared/LS_root/mounts/clusters/iaanenomoto21/code/Users/iaanenomoto2/gelato-magico-ml', 'creation_context': <azure.ai.ml.entities._system_data.SystemData object at 0x7f2525cab4c0>, 'serialize': <msrest.serialization.Serializer object at 0x7f2525c95360>, 'allowed_keys': {}, 'key_restriction': False, 'logger': <TraceLogger attr_dict (WARNING)>, 'display_name': 'gelato_regression_prediction_nt', 'experiment_name': 'gelato-magico-ml', 'compute': None, 'services': {'Tracking': {'endpoint': 'azureml://brazilsouth.api.azureml.ms/mlflow/v1.0/subscriptions/4541dd7b-7618-42c2-89fa-4545a19be31e/resourceGroups/dio_exam/providers/Microsoft.MachineLearningServices/workspaces/Gelato_magico-ml?', 'type': 'Tracking'}, 'Studio': {'endpoint': 'https://ml.azure.com/runs/yellow_cart_cyb6ktndq4?wsid=/subscriptions/4541dd7b-7618-42c2-89fa-4545a19be31e/resourcegroups/dio_exam/workspaces/Gelato_magico-ml&tid=bdae6e2c-0449-4431-8ee0-a78faed19549', 'type': 'Studio'}}, 'comment': None, 'job_inputs': {'data': {'type': 'uri_file', 'path': 'https://ml.azure.com/fileexplorerAzNB?wsid=/subscriptions/4541dd7b-7618-42c2-89fa-4545a19be31e/resourcegroups/dio_exam/providers/Microsoft.MachineLearningServices/workspaces/Gelato_magico-ml&tid=bdae6e2c-0449-4431-8ee0-a78faed19549&activeFilePath=Users/iaanenomoto2/gelato-magico-ml/Ice%20Cream%20Sales%20-%20temperatures.csv', 'mode': 'ro_mount'}, 'test_train_ratio': '0.2', 'registered_model_name': 'gelato_regression_model_nt'}, 'job_outputs': {'default': {'type': 'uri_folder', 'path': 'azureml://datastores/workspaceartifactstore/ExperimentRun/dcid.yellow_cart_cyb6ktndq4', 'mode': 'rw_mount'}}, 'inputs': {'data': <azure.ai.ml.entities._job.pipeline._io.base.NodeInput object at 0x7f2525c95960>, 'test_train_ratio': <azure.ai.ml.entities._job.pipeline._io.base.NodeInput object at 0x7f2525c95b40>, 'registered_model_name': <azure.ai.ml.entities._job.pipeline._io.base.NodeInput object at 0x7f2525c94be0>}, 'outputs': {'default': <azure.ai.ml.entities._job.pipeline._io.base.NodeOutput object at 0x7f2525c95f30>}, 'component': CommandComponent({'latest_version': None, 'intellectual_property': None, 'auto_increment_version': True, 'source': 'REMOTE.WORKSPACE.JOB', 'is_anonymous': False, 'auto_delete_setting': None, 'name': 'yellow_cart_cyb6ktndq4', 'description': None, 'tags': {}, 'properties': {}, 'print_as_yaml': False, 'id': None, 'Resource__source_path': None, 'base_path': '/mnt/batch/tasks/shared/LS_root/mounts/clusters/iaanenomoto21/code/Users/iaanenomoto2/gelato-magico-ml', 'creation_context': <azure.ai.ml.entities._system_data.SystemData object at 0x7f2525cab4c0>, 'serialize': <msrest.serialization.Serializer object at 0x7f2525caba60>, 'command': 'python main.py --data ${{inputs.data}} --test_train_ratio ${{inputs.test_train_ratio}} --registered_model_name ${{inputs.registered_model_name}}', 'code': '/subscriptions/4541dd7b-7618-42c2-89fa-4545a19be31e/resourceGroups/dio_exam/providers/Microsoft.MachineLearningServices/workspaces/Gelato_magico-ml/codes/6b686c0a-09d7-42e0-94b6-200349306069/versions/1', 'environment_variables': {}, 'environment': '/subscriptions/4541dd7b-7618-42c2-89fa-4545a19be31e/resourceGroups/dio_exam/providers/Microsoft.MachineLearningServices/workspaces/Gelato_magico-ml/environments/sklearn-basic/versions/4', 'distribution': None, 'resources': None, 'queue_settings': None, 'version': None, 'schema': None, 'type': 'command', 'display_name': 'gelato_regression_prediction_nt', 'is_deterministic': True, 'inputs': {'data': {'type': 'uri_file', 'path': 'https://ml.azure.com/fileexplorerAzNB?wsid=/subscriptions/4541dd7b-7618-42c2-89fa-4545a19be31e/resourcegroups/dio_exam/providers/Microsoft.MachineLearningServices/workspaces/Gelato_magico-ml&tid=bdae6e2c-0449-4431-8ee0-a78faed19549&activeFilePath=Users/iaanenomoto2/gelato-magico-ml/Ice%20Cream%20Sales%20-%20temperatures.csv', 'mode': 'ro_mount'}, 'test_train_ratio': {'type': 'string', 'default': '0.2'}, 'registered_model_name': {'type': 'string', 'default': 'gelato_regression_model_nt'}}, 'outputs': {'default': {'type': 'uri_folder', 'path': 'azureml://datastores/workspaceartifactstore/ExperimentRun/dcid.yellow_cart_cyb6ktndq4', 'mode': 'rw_mount'}}, 'yaml_str': None, 'other_parameter': {'status': 'Starting', 'parameters': {}}, 'additional_includes': []}), 'referenced_control_flow_node_instance_id': None, 'kwargs': {'services': {'Tracking': {'endpoint': 'azureml://brazilsouth.api.azureml.ms/mlflow/v1.0/subscriptions/4541dd7b-7618-42c2-89fa-4545a19be31e/resourceGroups/dio_exam/providers/Microsoft.MachineLearningServices/workspaces/Gelato_magico-ml?', 'type': 'Tracking'}, 'Studio': {'endpoint': 'https://ml.azure.com/runs/yellow_cart_cyb6ktndq4?wsid=/subscriptions/4541dd7b-7618-42c2-89fa-4545a19be31e/resourcegroups/dio_exam/workspaces/Gelato_magico-ml&tid=bdae6e2c-0449-4431-8ee0-a78faed19549', 'type': 'Studio'}}, 'status': 'Starting', 'creation_context': <azure.ai.ml.entities._system_data.SystemData object at 0x7f2525cab4c0>}, 'instance_id': '7744183a-de0a-484b-a3c0-d3ea745e22d7', 'source': 'BUILDER', 'validate_required_input_not_provided': True, 'limits': None, 'identity': None, 'distribution': None, 'environment_variables': {}, 'environment': 'sklearn-basic:4', 'resources': {'instance_count': 1, 'shm_size': '2g'}, 'queue_settings': {'job_tier': 'standard'}, 'swept': False})"
            ]
          },
          "execution_count": 18,
          "metadata": {},
          "output_type": "execute_result"
        }
      ],
      "source": [
        "ml_client.create_or_update(job)"
      ]
    },
    {
      "cell_type": "code",
      "execution_count": null,
      "metadata": {},
      "outputs": [],
      "source": []
    }
  ],
  "metadata": {
    "kernel_info": {
      "name": "python310-sdkv2"
    },
    "kernelspec": {
      "display_name": "Python 3.10 - SDK v2",
      "language": "python",
      "name": "python310-sdkv2"
    },
    "language_info": {
      "codemirror_mode": {
        "name": "ipython",
        "version": 3
      },
      "file_extension": ".py",
      "mimetype": "text/x-python",
      "name": "python",
      "nbconvert_exporter": "python",
      "pygments_lexer": "ipython3",
      "version": "3.10.14"
    },
    "microsoft": {
      "host": {
        "AzureML": {
          "notebookHasBeenCompleted": true
        }
      }
    },
    "nteract": {
      "version": "nteract-front-end@1.0.0"
    }
  },
  "nbformat": 4,
  "nbformat_minor": 2
}
